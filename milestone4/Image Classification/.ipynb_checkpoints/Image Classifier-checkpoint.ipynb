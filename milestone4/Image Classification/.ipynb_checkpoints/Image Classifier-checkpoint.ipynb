{
 "cells": [
  {
   "cell_type": "code",
   "execution_count": 1,
   "metadata": {
    "executionInfo": {
     "elapsed": 15061,
     "status": "ok",
     "timestamp": 1720067589478,
     "user": {
      "displayName": "이주창",
      "userId": "11438547241459994037"
     },
     "user_tz": -540
    },
    "id": "CtHvg5xs-ozn"
   },
   "outputs": [],
   "source": [
    "import torch\n",
    "import torch.nn as nn\n",
    "import torch.nn.functional as F\n",
    "import torch.optim as optim\n",
    "\n",
    "import torchvision\n",
    "from torchvision import datasets, transforms\n",
    "from torchvision.transforms import Lambda\n",
    "\n",
    "import numpy as np\n",
    "import matplotlib.pyplot as plt"
   ]
  },
  {
   "cell_type": "code",
   "execution_count": 2,
   "metadata": {},
   "outputs": [
    {
     "name": "stdout",
     "output_type": "stream",
     "text": [
      "cuda:0\n"
     ]
    }
   ],
   "source": [
    "device = torch.device('cuda:0' if torch.cuda.is_available() else 'cpu')\n",
    "\n",
    "print(device)"
   ]
  },
  {
   "cell_type": "code",
   "execution_count": 3,
   "metadata": {},
   "outputs": [],
   "source": [
    "# MNIST dataset\n",
    "transform=transforms.Compose([\n",
    "    transforms.ToTensor(),\n",
    "    transforms.Normalize((0.1307,), (0.3081,)),\n",
    "    transforms.Resize((32,32)),\n",
    "    transforms.Grayscale(num_output_channels=3),\n",
    "    ])\n",
    "\n",
    "batch_size = 4\n",
    "\n",
    "mnist_trainset = datasets.MNIST('./data', train=True, download=True,\n",
    "                       transform=transform)\n",
    "mnist_testset = datasets.MNIST('./data', train=False,\n",
    "                       transform=transform)\n",
    "\n",
    "mnist_trainloader = torch.utils.data.DataLoader(mnist_trainset, batch_size=batch_size,\n",
    "                                          shuffle=True, num_workers=2)\n",
    "\n",
    "mnist_testloader = torch.utils.data.DataLoader(mnist_testset, batch_size=batch_size,\n",
    "                                         shuffle=False, num_workers=2)\n",
    "\n",
    "classes = ('0', '1', '2', '3', '4', '5', '6', '7', '8', '9',\n",
    "           'plane', 'car', 'bird', 'cat', 'deer',\n",
    "           'dog', 'frog', 'horse', 'ship', 'truck')"
   ]
  },
  {
   "cell_type": "code",
   "execution_count": 4,
   "metadata": {},
   "outputs": [
    {
     "name": "stdout",
     "output_type": "stream",
     "text": [
      "Files already downloaded and verified\n",
      "Files already downloaded and verified\n"
     ]
    }
   ],
   "source": [
    "# CIFAR10 dataset\n",
    "transform = transforms.Compose(\n",
    "    [transforms.ToTensor(),\n",
    "     transforms.Normalize((0.5, 0.5, 0.5), (0.5, 0.5, 0.5))])\n",
    "\n",
    "batch_size = 4\n",
    "\n",
    "cifar_trainset = datasets.CIFAR10(root='./data', train=True,\n",
    "                                        download=True, transform=transform)\n",
    "cifar_testset = datasets.CIFAR10(root='./data', train=False,\n",
    "                                        download=True, transform=transform)\n",
    "\n",
    "cifar_trainloader = torch.utils.data.DataLoader(cifar_trainset, batch_size=batch_size,\n",
    "                                          shuffle=True, num_workers=2)\n",
    "cifar_testloader = torch.utils.data.DataLoader(cifar_testset, batch_size=batch_size,\n",
    "                                         shuffle=False, num_workers=2)"
   ]
  },
  {
   "cell_type": "code",
   "execution_count": 5,
   "metadata": {},
   "outputs": [
    {
     "data": {
      "text/plain": [
       "Net(\n",
       "  (conv1): Conv2d(3, 16, kernel_size=(5, 5), stride=(1, 1))\n",
       "  (conv2): Conv2d(16, 32, kernel_size=(5, 5), stride=(1, 1))\n",
       "  (pool): MaxPool2d(kernel_size=2, stride=2, padding=0, dilation=1, ceil_mode=False)\n",
       "  (dropout1): Dropout(p=0.25, inplace=False)\n",
       "  (fc1): Linear(in_features=4608, out_features=256, bias=True)\n",
       "  (fc2): Linear(in_features=256, out_features=20, bias=True)\n",
       ")"
      ]
     },
     "execution_count": 5,
     "metadata": {},
     "output_type": "execute_result"
    }
   ],
   "source": [
    "# Model definition\n",
    "class Net(nn.Module):\n",
    "    def __init__(self):\n",
    "        super(Net, self).__init__()\n",
    "        self.conv1 = nn.Conv2d(3, 16, 5)\n",
    "        self.conv2 = nn.Conv2d(16, 32, 5)\n",
    "        self.pool = nn.MaxPool2d(2, 2)\n",
    "        self.dropout1 = nn.Dropout(0.25)\n",
    "        self.fc1 = nn.Linear(32 * 12 * 12, 256)\n",
    "        self.fc2 = nn.Linear(256, 20)\n",
    "\n",
    "    def forward(self, x):\n",
    "        x = self.conv1(x) # 28 * 28\n",
    "        x = F.relu(x)\n",
    "        x = self.conv2(x) # 24 * 24\n",
    "        x = F.relu(x)\n",
    "        x = self.pool(x) # 12 * 12\n",
    "        x = self.dropout1(x)\n",
    "        x = torch.flatten(x, 1)\n",
    "        x = self.fc1(x)\n",
    "        x = F.relu(x)\n",
    "        x = self.dropout1(x)\n",
    "        x = self.fc2(x)\n",
    "        output = F.log_softmax(x, dim=1)\n",
    "        return output\n",
    "\n",
    "net = Net()\n",
    "net.to(device)"
   ]
  },
  {
   "cell_type": "code",
   "execution_count": 6,
   "metadata": {},
   "outputs": [],
   "source": [
    "# loss function and optimization function for MNIST and CIFAR10\n",
    "criterion = nn.CrossEntropyLoss()\n",
    "optimizer = optim.Adam(net.parameters(), lr=1e-4)"
   ]
  },
  {
   "cell_type": "code",
   "execution_count": 7,
   "metadata": {},
   "outputs": [
    {
     "name": "stdout",
     "output_type": "stream",
     "text": [
      "[1,  2000] loss: 0.473\n",
      "[1,  4000] loss: 0.152\n",
      "[1,  6000] loss: 0.117\n",
      "[1,  8000] loss: 0.092\n",
      "[1, 10000] loss: 0.081\n",
      "[1, 12000] loss: 0.068\n",
      "[1, 14000] loss: 0.069\n",
      "[1,  2000] loss: 2.029\n",
      "[1,  4000] loss: 1.614\n",
      "[1,  6000] loss: 1.481\n",
      "[1,  8000] loss: 1.384\n",
      "[1, 10000] loss: 1.349\n",
      "[1, 12000] loss: 1.281\n",
      "[2,  2000] loss: 0.110\n",
      "[2,  4000] loss: 0.060\n",
      "[2,  6000] loss: 0.051\n",
      "[2,  8000] loss: 0.053\n",
      "[2, 10000] loss: 0.052\n",
      "[2, 12000] loss: 0.051\n",
      "[2, 14000] loss: 0.052\n",
      "[2,  2000] loss: 1.304\n",
      "[2,  4000] loss: 1.198\n",
      "[2,  6000] loss: 1.149\n",
      "[2,  8000] loss: 1.135\n",
      "[2, 10000] loss: 1.148\n",
      "[2, 12000] loss: 1.112\n",
      "[3,  2000] loss: 0.066\n",
      "[3,  4000] loss: 0.043\n",
      "[3,  6000] loss: 0.041\n",
      "[3,  8000] loss: 0.039\n",
      "[3, 10000] loss: 0.039\n",
      "[3, 12000] loss: 0.034\n",
      "[3, 14000] loss: 0.037\n",
      "[3,  2000] loss: 1.119\n",
      "[3,  4000] loss: 1.031\n",
      "[3,  6000] loss: 1.013\n",
      "[3,  8000] loss: 1.014\n",
      "[3, 10000] loss: 0.984\n",
      "[3, 12000] loss: 1.010\n",
      "[4,  2000] loss: 0.049\n",
      "[4,  4000] loss: 0.037\n",
      "[4,  6000] loss: 0.033\n",
      "[4,  8000] loss: 0.036\n",
      "[4, 10000] loss: 0.032\n",
      "[4, 12000] loss: 0.035\n",
      "[4, 14000] loss: 0.028\n",
      "[4,  2000] loss: 0.989\n",
      "[4,  4000] loss: 0.901\n",
      "[4,  6000] loss: 0.910\n",
      "[4,  8000] loss: 0.916\n",
      "[4, 10000] loss: 0.913\n",
      "[4, 12000] loss: 0.902\n",
      "[5,  2000] loss: 0.036\n",
      "[5,  4000] loss: 0.033\n",
      "[5,  6000] loss: 0.023\n",
      "[5,  8000] loss: 0.022\n",
      "[5, 10000] loss: 0.025\n",
      "[5, 12000] loss: 0.028\n",
      "[5, 14000] loss: 0.024\n",
      "[5,  2000] loss: 0.888\n",
      "[5,  4000] loss: 0.822\n",
      "[5,  6000] loss: 0.838\n",
      "[5,  8000] loss: 0.818\n",
      "[5, 10000] loss: 0.840\n",
      "[5, 12000] loss: 0.801\n",
      "[6,  2000] loss: 0.032\n",
      "[6,  4000] loss: 0.023\n",
      "[6,  6000] loss: 0.022\n",
      "[6,  8000] loss: 0.023\n",
      "[6, 10000] loss: 0.026\n",
      "[6, 12000] loss: 0.025\n",
      "[6, 14000] loss: 0.024\n",
      "[6,  2000] loss: 0.790\n",
      "[6,  4000] loss: 0.747\n",
      "[6,  6000] loss: 0.761\n",
      "[6,  8000] loss: 0.757\n",
      "[6, 10000] loss: 0.754\n",
      "[6, 12000] loss: 0.750\n",
      "[7,  2000] loss: 0.026\n",
      "[7,  4000] loss: 0.019\n",
      "[7,  6000] loss: 0.024\n",
      "[7,  8000] loss: 0.020\n",
      "[7, 10000] loss: 0.024\n",
      "[7, 12000] loss: 0.023\n",
      "[7, 14000] loss: 0.022\n",
      "[7,  2000] loss: 0.735\n",
      "[7,  4000] loss: 0.699\n",
      "[7,  6000] loss: 0.687\n",
      "[7,  8000] loss: 0.694\n",
      "[7, 10000] loss: 0.688\n",
      "[7, 12000] loss: 0.686\n",
      "[8,  2000] loss: 0.030\n",
      "[8,  4000] loss: 0.015\n",
      "[8,  6000] loss: 0.023\n",
      "[8,  8000] loss: 0.021\n",
      "[8, 10000] loss: 0.020\n",
      "[8, 12000] loss: 0.018\n",
      "[8, 14000] loss: 0.028\n",
      "[8,  2000] loss: 0.671\n",
      "[8,  4000] loss: 0.641\n",
      "[8,  6000] loss: 0.627\n",
      "[8,  8000] loss: 0.624\n",
      "[8, 10000] loss: 0.634\n",
      "[8, 12000] loss: 0.639\n",
      "[9,  2000] loss: 0.021\n",
      "[9,  4000] loss: 0.016\n",
      "[9,  6000] loss: 0.014\n",
      "[9,  8000] loss: 0.021\n",
      "[9, 10000] loss: 0.024\n",
      "[9, 12000] loss: 0.019\n",
      "[9, 14000] loss: 0.021\n",
      "[9,  2000] loss: 0.621\n",
      "[9,  4000] loss: 0.563\n",
      "[9,  6000] loss: 0.572\n",
      "[9,  8000] loss: 0.591\n",
      "[9, 10000] loss: 0.586\n",
      "[9, 12000] loss: 0.578\n",
      "[10,  2000] loss: 0.015\n",
      "[10,  4000] loss: 0.018\n",
      "[10,  6000] loss: 0.022\n",
      "[10,  8000] loss: 0.016\n",
      "[10, 10000] loss: 0.014\n",
      "[10, 12000] loss: 0.020\n",
      "[10, 14000] loss: 0.017\n",
      "[10,  2000] loss: 0.569\n",
      "[10,  4000] loss: 0.529\n",
      "[10,  6000] loss: 0.512\n",
      "[10,  8000] loss: 0.540\n",
      "[10, 10000] loss: 0.522\n",
      "[10, 12000] loss: 0.527\n",
      "Finished Training\n"
     ]
    }
   ],
   "source": [
    "for epoch in range(10):  # loops over dataset\n",
    "\n",
    "    # MNIST training\n",
    "    running_loss = 0.0\n",
    "    for i, data in enumerate(mnist_trainloader, 0):\n",
    "        # get the inputs\n",
    "        inputs, labels = data[0].to(device), data[1].to(device)\n",
    "\n",
    "        # initialize gradiants to zero\n",
    "        optimizer.zero_grad()\n",
    "        \n",
    "        # forward, backward\n",
    "        outputs = net(torch.cat([inputs, inputs, inputs], dim=1))\n",
    "        loss = criterion(outputs, labels)\n",
    "        loss.backward()\n",
    "        optimizer.step()\n",
    "\n",
    "        # print statistics\n",
    "        running_loss += loss.item()\n",
    "        if i % 2000 == 1999:    # batch size=4, so 15000 batch calls for training data\n",
    "            print(f'[{epoch + 1}, {i + 1:5d}] loss: {running_loss / 2000:.3f}')\n",
    "            running_loss = 0.0\n",
    "\n",
    "    # CIFAR training\n",
    "    for i, data in enumerate(cifar_trainloader, 0):\n",
    "        # get the inputs\n",
    "        inputs, labels = data[0].to(device), (data[1]+10).to(device)\n",
    "        \n",
    "        # initialize gradiants to zero\n",
    "        optimizer.zero_grad()\n",
    "\n",
    "        # forward, backward\n",
    "        outputs = net(inputs)\n",
    "        loss = criterion(outputs, labels)\n",
    "        loss.backward()\n",
    "        optimizer.step()\n",
    "\n",
    "        # print statistics\n",
    "        running_loss += loss.item()\n",
    "        if i % 2000 == 1999:    # batch size=4, so 12500 batch calls for training data\n",
    "            print(f'[{epoch + 1}, {i + 1:5d}] loss: {running_loss / 2000:.3f}')\n",
    "            running_loss = 0.0\n",
    "\n",
    "print('Finished Training')"
   ]
  },
  {
   "cell_type": "code",
   "execution_count": 8,
   "metadata": {},
   "outputs": [],
   "source": [
    "# saving weights\n",
    "PATH = './mnist_cifar_net.pth'\n",
    "torch.save(net.state_dict(), PATH)"
   ]
  },
  {
   "cell_type": "code",
   "execution_count": 9,
   "metadata": {},
   "outputs": [
    {
     "name": "stdout",
     "output_type": "stream",
     "text": [
      "Accuracy of the network on the 20000 test images: 78 %\n"
     ]
    }
   ],
   "source": [
    "# accuracy testing\n",
    "correct = 0\n",
    "total = 0\n",
    "\n",
    "with torch.no_grad(): # testing, no gradient update\n",
    "    for data in mnist_testloader:\n",
    "        inputs, labels = data[0].to(device), data[1].to(device)\n",
    "        # only run forward\n",
    "        outputs = net(torch.cat([inputs, inputs, inputs], dim=1))\n",
    "        # the highest energy class = prediction\n",
    "        _, predicted = torch.max(outputs.data, 1)\n",
    "        total += labels.size(0)\n",
    "        correct += (predicted == labels).sum().item()\n",
    "\n",
    "    for data in cifar_testloader:\n",
    "        inputs, labels = data[0].to(device), (data[1]+10).to(device)\n",
    "        # only run forward\n",
    "        outputs = net(inputs)\n",
    "        # the highest energy class = prediction\n",
    "        _, predicted = torch.max(outputs.data, 1)\n",
    "        total += labels.size(0)\n",
    "        correct += (predicted == labels).sum().item()\n",
    "\n",
    "print(f'Accuracy of the network on the 20000 test images: {100 * correct // total} %')"
   ]
  },
  {
   "cell_type": "code",
   "execution_count": 10,
   "metadata": {},
   "outputs": [
    {
     "name": "stdout",
     "output_type": "stream",
     "text": [
      "Accuracy for class: 0     is 87.4 %\n",
      "Accuracy for class: 1     is 97.0 %\n",
      "Accuracy for class: 2     is 92.1 %\n",
      "Accuracy for class: 3     is 95.7 %\n",
      "Accuracy for class: 4     is 82.2 %\n",
      "Accuracy for class: 5     is 94.5 %\n",
      "Accuracy for class: 6     is 95.1 %\n",
      "Accuracy for class: 7     is 89.7 %\n",
      "Accuracy for class: 8     is 91.5 %\n",
      "Accuracy for class: 9     is 94.4 %\n",
      "Accuracy for class: plane is 72.1 %\n",
      "Accuracy for class: car   is 81.5 %\n",
      "Accuracy for class: bird  is 46.1 %\n",
      "Accuracy for class: cat   is 41.3 %\n",
      "Accuracy for class: deer  is 62.0 %\n",
      "Accuracy for class: dog   is 56.2 %\n",
      "Accuracy for class: frog  is 75.2 %\n",
      "Accuracy for class: horse is 74.1 %\n",
      "Accuracy for class: ship  is 72.6 %\n",
      "Accuracy for class: truck is 74.8 %\n"
     ]
    }
   ],
   "source": [
    "# counting correct predictions per class\n",
    "correct_pred = {classname: 0 for classname in classes}\n",
    "total_pred = {classname: 0 for classname in classes}\n",
    "\n",
    "# testing, no gradient update\n",
    "with torch.no_grad():\n",
    "    for data in mnist_testloader:\n",
    "        inputs, labels = data[0].to(device), data[1].to(device)\n",
    "        outputs = net(torch.cat([inputs, inputs, inputs], dim=1))\n",
    "        _, predictions = torch.max(outputs, 1)\n",
    "        # update correct predictions for each class\n",
    "        for label, prediction in zip(labels, predictions):\n",
    "            if label == prediction:\n",
    "                correct_pred[classes[label]] += 1\n",
    "            total_pred[classes[label]] += 1\n",
    "\n",
    "    for data in cifar_testloader:\n",
    "        inputs, labels = data[0].to(device), (data[1]+10).to(device)\n",
    "        outputs = net(inputs)\n",
    "        _, predictions = torch.max(outputs, 1)\n",
    "        # update correct predictions for each class\n",
    "        for label, prediction in zip(labels, predictions):\n",
    "            if label == prediction:\n",
    "                correct_pred[classes[label]] += 1\n",
    "            total_pred[classes[label]] += 1\n",
    "\n",
    "\n",
    "# print accuracy for each class\n",
    "for classname, correct_count in correct_pred.items():\n",
    "    accuracy = 100 * float(correct_count) / total_pred[classname]\n",
    "    print(f'Accuracy for class: {classname:5s} is {accuracy:.1f} %')"
   ]
  },
  {
   "cell_type": "code",
   "execution_count": 11,
   "metadata": {
    "colab": {
     "base_uri": "https://localhost:8080/",
     "height": 230
    },
    "executionInfo": {
     "elapsed": 1239,
     "status": "ok",
     "timestamp": 1720068032377,
     "user": {
      "displayName": "이주창",
      "userId": "11438547241459994037"
     },
     "user_tz": -540
    },
    "id": "ZaqGhDkHAleZ",
    "outputId": "501c4e09-92a2-47b7-adcb-9f2bab6d1d6a"
   },
   "outputs": [
    {
     "data": {
      "image/png": "[encoded data removed]",
      "text/plain": [
       "<Figure size 640x480 with 1 Axes>"
      ]
     },
     "metadata": {},
     "output_type": "display_data"
    },
    {
     "name": "stdout",
     "output_type": "stream",
     "text": [
      "ship  truck frog  dog  \n"
     ]
    }
   ],
   "source": [
    "# sampling CIFAR10 images\n",
    "import matplotlib.pyplot as plt\n",
    "import numpy as np\n",
    "\n",
    "def imshow(img):\n",
    "    img = img / 2 + 0.5\n",
    "    npimg = img.numpy()\n",
    "    plt.imshow(np.transpose(npimg, (1, 2, 0)))\n",
    "    plt.show()\n",
    "\n",
    "# sample images from training dataset\n",
    "dataiter = iter(cifar_trainloader)\n",
    "images, labels = next(dataiter)\n",
    "\n",
    "# show images and labels\n",
    "imshow(torchvision.utils.make_grid(images))\n",
    "print(' '.join(f'{classes[labels[j]+10]:5s}' for j in range(batch_size)))"
   ]
  },
  {
   "cell_type": "code",
   "execution_count": null,
   "metadata": {},
   "outputs": [],
   "source": []
  }
 ],
 "metadata": {
  "colab": {
   "authorship_tag": "ABX9TyOvfydAhST0Ckf4tquTJDTd",
   "provenance": []
  },
  "kernelspec": {
   "display_name": "Python 3 (ipykernel)",
   "language": "python",
   "name": "python3"
  },
  "language_info": {
   "codemirror_mode": {
    "name": "ipython",
    "version": 3
   },
   "file_extension": ".py",
   "mimetype": "text/x-python",
   "name": "python",
   "nbconvert_exporter": "python",
   "pygments_lexer": "ipython3",
   "version": "3.12.4"
  }
 },
 "nbformat": 4,
 "nbformat_minor": 4
}
